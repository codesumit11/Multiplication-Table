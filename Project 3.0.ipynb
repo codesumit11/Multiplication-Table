{
 "cells": [
  {
   "cell_type": "markdown",
   "id": "03414cd5",
   "metadata": {},
   "source": [
    "# Multiplication Table\n"
   ]
  },
  {
   "cell_type": "code",
   "execution_count": 8,
   "id": "8fa25b14",
   "metadata": {
    "scrolled": true
   },
   "outputs": [
    {
     "name": "stdout",
     "output_type": "stream",
     "text": [
      "Enter a number:2\n",
      "Multiplication Table of 2:\n",
      "******************************\n",
      "2*1=2\n",
      "2*2=4\n",
      "2*3=6\n",
      "2*4=8\n",
      "2*5=10\n",
      "2*6=12\n",
      "2*7=14\n",
      "2*8=16\n",
      "2*9=18\n",
      "2*10=20\n",
      "2*11=22\n",
      "2*12=24\n",
      "******************************\n"
     ]
    }
   ],
   "source": [
    "n=int(input(\"Enter a number:\"))\n",
    "print(\"Multiplication Table of {}:\".format(n))\n",
    "print(\"*\"*30)\n",
    "i=1\n",
    "while(i<=12):\n",
    "    print(\"{}*{}={}\".format(n,i,n*i))\n",
    "    i=+i+1    \n",
    "print(\"*\"*30)\n",
    "        \n"
   ]
  }
 ],
 "metadata": {
  "kernelspec": {
   "display_name": "Python 3 (ipykernel)",
   "language": "python",
   "name": "python3"
  },
  "language_info": {
   "codemirror_mode": {
    "name": "ipython",
    "version": 3
   },
   "file_extension": ".py",
   "mimetype": "text/x-python",
   "name": "python",
   "nbconvert_exporter": "python",
   "pygments_lexer": "ipython3",
   "version": "3.9.12"
  }
 },
 "nbformat": 4,
 "nbformat_minor": 5
}
